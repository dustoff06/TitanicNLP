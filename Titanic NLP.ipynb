{
 "cells": [
  {
   "cell_type": "markdown",
   "id": "3c6aacba",
   "metadata": {},
   "source": [
    "# Pre-Processing\n",
    "\n",
    "Here are a fraction of the packages you will want to use for text processing. "
   ]
  },
  {
   "cell_type": "code",
   "execution_count": 1,
   "id": "a2c7dff0",
   "metadata": {},
   "outputs": [
    {
     "name": "stderr",
     "output_type": "stream",
     "text": [
      "[nltk_data] Downloading package gutenberg to\n",
      "[nltk_data]     C:\\Users\\lfult\\AppData\\Roaming\\nltk_data...\n",
      "[nltk_data]   Package gutenberg is already up-to-date!\n"
     ]
    }
   ],
   "source": [
    "#Common NLP Toolkit (I mostly use TensorFLow)\n",
    "#from bs4 import BeautifulSoup #for scraping\n",
    "import nltk\n",
    "from nltk.corpus import wordnet, gutenberg, stopwords\n",
    "from nltk.stem import WordNetLemmatizer\n",
    "from nltk.tokenize import word_tokenize \n",
    "\n",
    "import numpy as np\n",
    "\n",
    "import pandas as pd\n",
    "#import pickle  #I use this all of the time\n",
    "#from pprint import pprint\n",
    "\n",
    "#import spacy #for EMOJIS\n",
    "#from spacymoji import Emoji #for EMOTICONS\n",
    "#from emot.emo_unicode import UNICODE_EMOJI #for EMOJIS\n",
    "#from emot.emo_unicode import EMOTICONS_EMO # For EMOTICONS\n",
    "\n",
    "#Text & Number Manipulation\n",
    "import re\n",
    "import string\n",
    "from string import punctuation\n",
    "from num2words import num2words\n",
    "\n",
    "#Plotting\n",
    "import matplotlib\n",
    "import matplotlib.pyplot as plt #for plotting\n",
    "\n",
    "#Download Books\n",
    "nltk.download('gutenberg')\n",
    "\n",
    "#Initiliaze Lemmatizer, Stopwords Handler, and Wordnet Map (For Later Use)\n",
    "lemmatizer = WordNetLemmatizer()\n",
    "stopwords = set(nltk.corpus.stopwords.words('english'))\n",
    "wordnet_map = {\"N\":wordnet.NOUN, \"V\":wordnet.VERB, \"J\":wordnet.ADJ, \"R\":wordnet.ADV}"
   ]
  },
  {
   "cell_type": "markdown",
   "id": "9f8fe289",
   "metadata": {},
   "source": [
    "# Read and Verify Text"
   ]
  },
  {
   "cell_type": "code",
   "execution_count": 2,
   "id": "6580001a",
   "metadata": {},
   "outputs": [],
   "source": [
    "t=pd.read_csv('c:/users/lfult/documents/titanic/train4NLP.csv', dtype='str')\n",
    "titanicdf=pd.DataFrame(t['Concatenate'], columns=['Concatenate'])\n",
    "t2=pd.read_csv('c:/users/lfult/documents/titanic/test4NLP.csv', dtype='str')\n",
    "testdf=pd.DataFrame(t2['Concatenate'], columns=['Concatenate'])"
   ]
  },
  {
   "cell_type": "markdown",
   "id": "deb83366",
   "metadata": {},
   "source": [
    "# Functions for Cleaning\n",
    "Clean HTML tags (if any)\n",
    "Remove empty lines\n",
    "Remove Emoticons\n",
    "Remove EMOJI\n",
    "Remove stopwords\n",
    "Strip punctuation\n",
    "Lemmatize words"
   ]
  },
  {
   "cell_type": "code",
   "execution_count": 3,
   "id": "30dd627e",
   "metadata": {},
   "outputs": [],
   "source": [
    "def clean_html(text):\n",
    "  CLEANR = re.compile(\"<.*?>:\") \n",
    "  text = re.sub(CLEANR, ' ', text)\n",
    "  text = re.sub(r'[^a-zA-Z\\s]', '', text, re.I|re.A) #lower case\n",
    "  return text\n",
    "\n",
    "def rem_lines(text):\n",
    "    return text.strip().replace('\\n', ' ')\n",
    "\n",
    "#Handle Emojis and Emoticons\n",
    "#def convert_emoticons(text):\n",
    "#    for emot in EMOTICONS_EMO:\n",
    "#        text = text.replace(emot, EMOTICONS_EMO[emot]+\" \".replace(\"\",\"\"))\n",
    "#    return text\n",
    "\n",
    "#def convert_emojis(text):\n",
    "#    for emot in UNICODE_EMOJI:\n",
    "#        text = text.replace(emot,UNICODE_EMOJI[emot]+\" \".replace(\"\",\"\"))\n",
    "#    return text\n",
    "\n",
    "def remove_stopwords(text):\n",
    "    return [word for word in word_tokenize(text) if not word in stopwords]\n",
    "\n",
    "def strip_punctuation(text):\n",
    "    return ''.join(c for c in text if c not in punctuation)+' '    \n",
    "\n",
    "def to_number(text):    \n",
    "    return(re.sub(r\"(\\d+)\", lambda x: num2words(int(x.group(0))), text))\n",
    "\n",
    "def lemmatize_words(text):\n",
    "    pos_tagged_text = nltk.pos_tag(text.split())\n",
    "    return ' '.join([lemmatizer.lemmatize(word, wordnet_map.get(pos[0], wordnet.NOUN)) for word, pos in pos_tagged_text])"
   ]
  },
  {
   "cell_type": "markdown",
   "id": "370c3dc1",
   "metadata": {},
   "source": [
    "# Cleaning"
   ]
  },
  {
   "cell_type": "code",
   "execution_count": 4,
   "id": "0a814f05",
   "metadata": {},
   "outputs": [
    {
     "data": {
      "text/html": [
       "<div>\n",
       "<style scoped>\n",
       "    .dataframe tbody tr th:only-of-type {\n",
       "        vertical-align: middle;\n",
       "    }\n",
       "\n",
       "    .dataframe tbody tr th {\n",
       "        vertical-align: top;\n",
       "    }\n",
       "\n",
       "    .dataframe thead th {\n",
       "        text-align: right;\n",
       "    }\n",
       "</style>\n",
       "<table border=\"1\" class=\"dataframe\">\n",
       "  <thead>\n",
       "    <tr style=\"text-align: right;\">\n",
       "      <th></th>\n",
       "      <th>Concatenate</th>\n",
       "    </tr>\n",
       "  </thead>\n",
       "  <tbody>\n",
       "    <tr>\n",
       "      <th>0</th>\n",
       "      <td>three kelly mr james male thirtyfourfive zero ...</td>\n",
       "    </tr>\n",
       "    <tr>\n",
       "      <th>1</th>\n",
       "      <td>three wilkes mrs james ellen need female forty...</td>\n",
       "    </tr>\n",
       "    <tr>\n",
       "      <th>2</th>\n",
       "      <td>two myles mr thomas francis male sixtytwo zero...</td>\n",
       "    </tr>\n",
       "    <tr>\n",
       "      <th>3</th>\n",
       "      <td>three wirz mr albert male twentyseven zero zer...</td>\n",
       "    </tr>\n",
       "    <tr>\n",
       "      <th>4</th>\n",
       "      <td>three hirvonen mr alexander helga e lindqvist ...</td>\n",
       "    </tr>\n",
       "    <tr>\n",
       "      <th>...</th>\n",
       "      <td>...</td>\n",
       "    </tr>\n",
       "    <tr>\n",
       "      <th>413</th>\n",
       "      <td>three spector mr woolf male zero zero afive th...</td>\n",
       "    </tr>\n",
       "    <tr>\n",
       "      <th>414</th>\n",
       "      <td>one oliva ocana dona fermina female thirtynine...</td>\n",
       "    </tr>\n",
       "    <tr>\n",
       "      <th>415</th>\n",
       "      <td>three saether mr simon sivertsen male thirtyei...</td>\n",
       "    </tr>\n",
       "    <tr>\n",
       "      <th>416</th>\n",
       "      <td>three ware mr frederick male zero zero three h...</td>\n",
       "    </tr>\n",
       "    <tr>\n",
       "      <th>417</th>\n",
       "      <td>three peter master michael j male one one two ...</td>\n",
       "    </tr>\n",
       "  </tbody>\n",
       "</table>\n",
       "<p>418 rows × 1 columns</p>\n",
       "</div>"
      ],
      "text/plain": [
       "                                           Concatenate\n",
       "0    three kelly mr james male thirtyfourfive zero ...\n",
       "1    three wilkes mrs james ellen need female forty...\n",
       "2    two myles mr thomas francis male sixtytwo zero...\n",
       "3    three wirz mr albert male twentyseven zero zer...\n",
       "4    three hirvonen mr alexander helga e lindqvist ...\n",
       "..                                                 ...\n",
       "413  three spector mr woolf male zero zero afive th...\n",
       "414  one oliva ocana dona fermina female thirtynine...\n",
       "415  three saether mr simon sivertsen male thirtyei...\n",
       "416  three ware mr frederick male zero zero three h...\n",
       "417  three peter master michael j male one one two ...\n",
       "\n",
       "[418 rows x 1 columns]"
      ]
     },
     "execution_count": 4,
     "metadata": {},
     "output_type": "execute_result"
    }
   ],
   "source": [
    "#titanic_word=nltk.WordPunctTokenizer().tokenize #Word Punctuation Tokenizer\n",
    "#titanic_sent = nltk.sent_tokenize(text=t) #Concatenate Tokenizer\n",
    "#titanicdf=pd.DataFrame(titanic_sent, columns=['Concatenate'])\n",
    "\n",
    "titanicdf['Concatenate']=titanicdf['Concatenate'].astype(str).apply(to_number)\n",
    "titanicdf['Concatenate']=titanicdf['Concatenate'].str.lower() #second version of lower case\n",
    "titanicdf['Concatenate']=titanicdf['Concatenate'].astype(str).apply(clean_html)\n",
    "#titanicdf['Concatenate']=titanicdf['Concatenate'].astype(str).apply(convert_emoticons)\n",
    "#titanicdf['Concatenate']=titanicdf['Concatenate'].astype(str).apply(convert_emojis)\n",
    "titanicdf['Concatenate']=titanicdf['Concatenate'].astype(str).apply(remove_stopwords)\n",
    "titanicdf['Concatenate']=titanicdf['Concatenate'].astype(str).apply(strip_punctuation)\n",
    "titanicdf['Concatenate']=titanicdf['Concatenate'].astype(str).apply(lemmatize_words)\n",
    "titanicdf\n",
    "\n",
    "testdf['Concatenate']=testdf['Concatenate'].astype(str).apply(to_number)\n",
    "testdf['Concatenate']=testdf['Concatenate'].str.lower() #second version of lower case\n",
    "testdf['Concatenate']=testdf['Concatenate'].astype(str).apply(clean_html)\n",
    "#testdf['Concatenate']=testdf['Concatenate'].astype(str).apply(convert_emoticons)\n",
    "#testdf['Concatenate']=testdf['Concatenate'].astype(str).apply(convert_emojis)\n",
    "testdf['Concatenate']=testdf['Concatenate'].astype(str).apply(remove_stopwords)\n",
    "testdf['Concatenate']=testdf['Concatenate'].astype(str).apply(strip_punctuation)\n",
    "testdf['Concatenate']=testdf['Concatenate'].astype(str).apply(lemmatize_words)\n",
    "testdf\n"
   ]
  },
  {
   "cell_type": "code",
   "execution_count": 5,
   "id": "0bad4675",
   "metadata": {},
   "outputs": [
    {
     "data": {
      "text/html": [
       "<div>\n",
       "<style scoped>\n",
       "    .dataframe tbody tr th:only-of-type {\n",
       "        vertical-align: middle;\n",
       "    }\n",
       "\n",
       "    .dataframe tbody tr th {\n",
       "        vertical-align: top;\n",
       "    }\n",
       "\n",
       "    .dataframe thead th {\n",
       "        text-align: right;\n",
       "    }\n",
       "</style>\n",
       "<table border=\"1\" class=\"dataframe\">\n",
       "  <thead>\n",
       "    <tr style=\"text-align: right;\">\n",
       "      <th></th>\n",
       "      <th>Concatenate</th>\n",
       "      <th>Survived</th>\n",
       "    </tr>\n",
       "  </thead>\n",
       "  <tbody>\n",
       "    <tr>\n",
       "      <th>0</th>\n",
       "      <td>three braund mr owen harris male twentytwo one...</td>\n",
       "      <td>0</td>\n",
       "    </tr>\n",
       "    <tr>\n",
       "      <th>1</th>\n",
       "      <td>one cumings mrs john bradley florence briggs t...</td>\n",
       "      <td>1</td>\n",
       "    </tr>\n",
       "    <tr>\n",
       "      <th>2</th>\n",
       "      <td>three heikkinen miss laina female twentysix ze...</td>\n",
       "      <td>1</td>\n",
       "    </tr>\n",
       "    <tr>\n",
       "      <th>3</th>\n",
       "      <td>one futrelle mr jacques heath lily may peel fe...</td>\n",
       "      <td>1</td>\n",
       "    </tr>\n",
       "    <tr>\n",
       "      <th>4</th>\n",
       "      <td>three allen mr william henry male thirtyfive z...</td>\n",
       "      <td>0</td>\n",
       "    </tr>\n",
       "    <tr>\n",
       "      <th>5</th>\n",
       "      <td>three moran mr james male zero zero three hund...</td>\n",
       "      <td>0</td>\n",
       "    </tr>\n",
       "    <tr>\n",
       "      <th>6</th>\n",
       "      <td>one mccarthy mr timothy j male fiftyfour zero ...</td>\n",
       "      <td>0</td>\n",
       "    </tr>\n",
       "    <tr>\n",
       "      <th>7</th>\n",
       "      <td>three palsson master gosta leonard male two th...</td>\n",
       "      <td>0</td>\n",
       "    </tr>\n",
       "    <tr>\n",
       "      <th>8</th>\n",
       "      <td>three johnson mr oscar w elisabeth vilhelmina ...</td>\n",
       "      <td>1</td>\n",
       "    </tr>\n",
       "    <tr>\n",
       "      <th>9</th>\n",
       "      <td>two nasser mr nicholas adele achem female four...</td>\n",
       "      <td>1</td>\n",
       "    </tr>\n",
       "  </tbody>\n",
       "</table>\n",
       "</div>"
      ],
      "text/plain": [
       "                                         Concatenate Survived\n",
       "0  three braund mr owen harris male twentytwo one...        0\n",
       "1  one cumings mrs john bradley florence briggs t...        1\n",
       "2  three heikkinen miss laina female twentysix ze...        1\n",
       "3  one futrelle mr jacques heath lily may peel fe...        1\n",
       "4  three allen mr william henry male thirtyfive z...        0\n",
       "5  three moran mr james male zero zero three hund...        0\n",
       "6  one mccarthy mr timothy j male fiftyfour zero ...        0\n",
       "7  three palsson master gosta leonard male two th...        0\n",
       "8  three johnson mr oscar w elisabeth vilhelmina ...        1\n",
       "9  two nasser mr nicholas adele achem female four...        1"
      ]
     },
     "execution_count": 5,
     "metadata": {},
     "output_type": "execute_result"
    }
   ],
   "source": [
    "mylen=len(titanicdf.index)\n",
    "titanicdf['Survived']=t['Survived']\n",
    "titanicdf.head(10)"
   ]
  },
  {
   "cell_type": "markdown",
   "id": "87d4e8dc",
   "metadata": {},
   "source": [
    "# Top 10 Words"
   ]
  },
  {
   "cell_type": "code",
   "execution_count": 6,
   "id": "615a1c1a",
   "metadata": {},
   "outputs": [
    {
     "data": {
      "text/plain": [
       "<AxesSubplot: xlabel='Word'>"
      ]
     },
     "execution_count": 6,
     "metadata": {},
     "output_type": "execute_result"
    },
    {
     "data": {
      "image/png": "[encoded data removed]",
      "text/plain": [
       "<Figure size 640x480 with 1 Axes>"
      ]
     },
     "metadata": {},
     "output_type": "display_data"
    }
   ],
   "source": [
    "txt = titanicdf.Concatenate.str.cat(sep=' ')\n",
    "words = nltk.tokenize.word_tokenize(txt)\n",
    "word_dist = nltk.FreqDist(words)\n",
    "rslt = pd.DataFrame(word_dist.most_common(10),\n",
    "                    columns=['Word', 'Frequency']).set_index('Word')\n",
    "matplotlib.style.use('ggplot')\n",
    "rslt.plot.bar(rot=0)"
   ]
  },
  {
   "cell_type": "markdown",
   "id": "ac0b2931",
   "metadata": {},
   "source": [
    "# Train Test Split"
   ]
  },
  {
   "cell_type": "code",
   "execution_count": 7,
   "id": "fe3392b3",
   "metadata": {},
   "outputs": [],
   "source": [
    "from sklearn.model_selection import train_test_split as tts\n",
    "trainX, testX, trainy, testy,trainLabel, testLabel = tts(titanicdf['Concatenate'], titanicdf['Survived'],titanicdf['Survived'],\n",
    "                                         test_size=0.2, random_state=42)\n",
    "\n",
    "testX2=testdf.loc[:,testdf.columns!='Survived']\n",
    "\n"
   ]
  },
  {
   "cell_type": "markdown",
   "id": "1f9345d5",
   "metadata": {},
   "source": [
    "# Bag of Words Grouping"
   ]
  },
  {
   "cell_type": "code",
   "execution_count": 8,
   "id": "354f4a7d",
   "metadata": {},
   "outputs": [],
   "source": [
    "from sklearn.feature_extraction.text import CountVectorizer\n",
    "from sklearn.model_selection import cross_val_score as CVScore\n",
    "cv = CountVectorizer(binary=True,ngram_range=(1,4),min_df=0.0, max_df=1.0) #how many N-grams do you want?  \n",
    "cv_train = cv.fit_transform(trainX) #fit transform\n",
    "cv_test = cv.transform(testX) #just transform using other data\n",
    "cv_train2=cv.fit_transform(titanicdf['Concatenate'])\n",
    "cv_test2 = cv.transform(testdf['Concatenate'])"
   ]
  },
  {
   "cell_type": "markdown",
   "id": "a3c1d048",
   "metadata": {},
   "source": [
    "# TF-IDF Grouping\n",
    "\n",
    "Term frequency–inverse document frequency, is a measure of importance of a word to a document in a collection or corpus, adjusted for the fact that some words appear more frequently in general"
   ]
  },
  {
   "cell_type": "code",
   "execution_count": 9,
   "id": "fddb0f5f",
   "metadata": {},
   "outputs": [],
   "source": [
    "from sklearn.feature_extraction.text import TfidfVectorizer as TFIDF\n",
    "tv = TFIDF(use_idf=True, min_df=0.0, max_df=1.0)\n",
    "tv_train = tv.fit_transform(trainX)\n",
    "tv_test = tv.transform(testX)\n",
    "tv_train2=tv.fit_transform(titanicdf['Concatenate'])\n",
    "tv_test2 = tv.transform(testdf['Concatenate'])"
   ]
  },
  {
   "cell_type": "markdown",
   "id": "5e610b73",
   "metadata": {},
   "source": [
    "# Models"
   ]
  },
  {
   "cell_type": "code",
   "execution_count": 10,
   "id": "0677b231",
   "metadata": {},
   "outputs": [
    {
     "name": "stdout",
     "output_type": "stream",
     "text": [
      "BernoulliNB(alpha=0.1)\n",
      "              precision    recall  f1-score   support\n",
      "\n",
      "           0       0.87      0.83      0.85       110\n",
      "           1       0.74      0.80      0.77        69\n",
      "\n",
      "    accuracy                           0.82       179\n",
      "   macro avg       0.80      0.81      0.81       179\n",
      "weighted avg       0.82      0.82      0.82       179\n",
      "\n",
      "LogisticRegression(C=1, max_iter=500, random_state=42)\n",
      "              precision    recall  f1-score   support\n",
      "\n",
      "           0       0.89      0.85      0.87       109\n",
      "           1       0.78      0.83      0.81        70\n",
      "\n",
      "    accuracy                           0.84       179\n",
      "   macro avg       0.83      0.84      0.84       179\n",
      "weighted avg       0.85      0.84      0.84       179\n",
      "\n",
      "LinearSVC(C=1, max_iter=50, random_state=42)\n",
      "              precision    recall  f1-score   support\n",
      "\n",
      "           0       0.88      0.86      0.87       107\n",
      "           1       0.80      0.82      0.81        72\n",
      "\n",
      "    accuracy                           0.84       179\n",
      "   macro avg       0.84      0.84      0.84       179\n",
      "weighted avg       0.84      0.84      0.84       179\n",
      "\n",
      "SGDClassifier(max_iter=500, random_state=42)\n",
      "              precision    recall  f1-score   support\n",
      "\n",
      "           0       0.85      0.86      0.86       103\n",
      "           1       0.81      0.79      0.80        76\n",
      "\n",
      "    accuracy                           0.83       179\n",
      "   macro avg       0.83      0.83      0.83       179\n",
      "weighted avg       0.83      0.83      0.83       179\n",
      "\n",
      "RandomForestClassifier(n_estimators=50, random_state=42)\n",
      "              precision    recall  f1-score   support\n",
      "\n",
      "           0       0.92      0.82      0.87       118\n",
      "           1       0.72      0.87      0.79        61\n",
      "\n",
      "    accuracy                           0.84       179\n",
      "   macro avg       0.82      0.85      0.83       179\n",
      "weighted avg       0.85      0.84      0.84       179\n",
      "\n",
      "GradientBoostingClassifier(n_estimators=50, random_state=42)\n",
      "              precision    recall  f1-score   support\n",
      "\n",
      "           0       0.88      0.82      0.85       112\n",
      "           1       0.73      0.81      0.77        67\n",
      "\n",
      "    accuracy                           0.82       179\n",
      "   macro avg       0.80      0.81      0.81       179\n",
      "weighted avg       0.82      0.82      0.82       179\n",
      "\n",
      "Perceptron()\n",
      "              precision    recall  f1-score   support\n",
      "\n",
      "           0       0.89      0.87      0.88       107\n",
      "           1       0.81      0.83      0.82        72\n",
      "\n",
      "    accuracy                           0.85       179\n",
      "   macro avg       0.85      0.85      0.85       179\n",
      "weighted avg       0.86      0.85      0.86       179\n",
      "\n"
     ]
    }
   ],
   "source": [
    "from sklearn.metrics import classification_report as CR\n",
    "from sklearn.naive_bayes import BernoulliNB as NB\n",
    "from sklearn.linear_model import LogisticRegression as LR\n",
    "from sklearn.svm import LinearSVC as SVM\n",
    "from sklearn.linear_model import SGDClassifier as SGD\n",
    "from sklearn.ensemble import RandomForestClassifier as RFC\n",
    "from sklearn.ensemble import GradientBoostingClassifier as GBC\n",
    "from sklearn.linear_model import Perceptron as P\n",
    "\n",
    "nb=NB(alpha=.1)\n",
    "lr=LR(penalty='l2', max_iter=500, C=1, random_state=42)\n",
    "svm=SVM(penalty='l2', max_iter=50, C=1, random_state=42)\n",
    "sgd=SGD(loss='hinge', penalty=\"l2\", max_iter=500, random_state=42)\n",
    "rfc=RFC(n_estimators=50, random_state=42)\n",
    "gbc=GBC(n_estimators=50, random_state=42)\n",
    "p=P(tol=1e-3, random_state=0)\n",
    "\n",
    "models=[nb, lr,svm, sgd, rfc, gbc, p]\n",
    "\n",
    "def fit(x1,y1,x2,y2):\n",
    "    for model in models:\n",
    "        model.fit(x1,y1)\n",
    "        print(model)\n",
    "        mypred=model.predict(x2)\n",
    "        print(CR(mypred, y2))\n",
    "\n",
    "\n",
    "fit(cv_train,trainLabel, cv_test, testLabel)\n"
   ]
  },
  {
   "cell_type": "code",
   "execution_count": 11,
   "id": "d247c5f9",
   "metadata": {},
   "outputs": [
    {
     "name": "stdout",
     "output_type": "stream",
     "text": [
      "BernoulliNB(alpha=0.1)\n",
      "              precision    recall  f1-score   support\n",
      "\n",
      "           0       0.88      0.84      0.86       109\n",
      "           1       0.77      0.81      0.79        70\n",
      "\n",
      "    accuracy                           0.83       179\n",
      "   macro avg       0.82      0.83      0.83       179\n",
      "weighted avg       0.83      0.83      0.83       179\n",
      "\n",
      "LogisticRegression(C=1, max_iter=500, random_state=42)\n",
      "              precision    recall  f1-score   support\n",
      "\n",
      "           0       0.92      0.78      0.85       124\n",
      "           1       0.64      0.85      0.73        55\n",
      "\n",
      "    accuracy                           0.80       179\n",
      "   macro avg       0.78      0.82      0.79       179\n",
      "weighted avg       0.84      0.80      0.81       179\n",
      "\n",
      "LinearSVC(C=1, max_iter=50, random_state=42)\n",
      "              precision    recall  f1-score   support\n",
      "\n",
      "           0       0.91      0.83      0.87       115\n",
      "           1       0.74      0.86      0.80        64\n",
      "\n",
      "    accuracy                           0.84       179\n",
      "   macro avg       0.83      0.85      0.83       179\n",
      "weighted avg       0.85      0.84      0.85       179\n",
      "\n",
      "SGDClassifier(max_iter=500, random_state=42)\n",
      "              precision    recall  f1-score   support\n",
      "\n",
      "           0       0.90      0.84      0.87       112\n",
      "           1       0.76      0.84      0.79        67\n",
      "\n",
      "    accuracy                           0.84       179\n",
      "   macro avg       0.83      0.84      0.83       179\n",
      "weighted avg       0.84      0.84      0.84       179\n",
      "\n",
      "RandomForestClassifier(n_estimators=50, random_state=42)\n",
      "              precision    recall  f1-score   support\n",
      "\n",
      "           0       0.95      0.78      0.85       129\n",
      "           1       0.61      0.90      0.73        50\n",
      "\n",
      "    accuracy                           0.81       179\n",
      "   macro avg       0.78      0.84      0.79       179\n",
      "weighted avg       0.86      0.81      0.82       179\n",
      "\n",
      "GradientBoostingClassifier(n_estimators=50, random_state=42)\n",
      "              precision    recall  f1-score   support\n",
      "\n",
      "           0       0.90      0.80      0.85       119\n",
      "           1       0.68      0.83      0.75        60\n",
      "\n",
      "    accuracy                           0.81       179\n",
      "   macro avg       0.79      0.82      0.80       179\n",
      "weighted avg       0.83      0.81      0.81       179\n",
      "\n",
      "Perceptron()\n",
      "              precision    recall  f1-score   support\n",
      "\n",
      "           0       0.87      0.83      0.85       110\n",
      "           1       0.74      0.80      0.77        69\n",
      "\n",
      "    accuracy                           0.82       179\n",
      "   macro avg       0.80      0.81      0.81       179\n",
      "weighted avg       0.82      0.82      0.82       179\n",
      "\n"
     ]
    }
   ],
   "source": [
    "fit(tv_train,trainLabel, tv_test, testLabel)"
   ]
  },
  {
   "cell_type": "markdown",
   "id": "19950e38",
   "metadata": {},
   "source": [
    "# Fit To Unseen Test Data"
   ]
  },
  {
   "cell_type": "code",
   "execution_count": 13,
   "id": "d2adb05a",
   "metadata": {},
   "outputs": [
    {
     "name": "stdout",
     "output_type": "stream",
     "text": [
      "RandomForestClassifier(n_estimators=50, random_state=42)\n"
     ]
    }
   ],
   "source": [
    "rfc.fit(cv_train2, titanicdf['Survived'])\n",
    "print(rfc)\n",
    "mypred=rfc.predict(cv_test2)"
   ]
  },
  {
   "cell_type": "code",
   "execution_count": 14,
   "id": "d5425104",
   "metadata": {},
   "outputs": [],
   "source": [
    "fdf=pd.DataFrame({'PassengerId': np.arange(892,1310), 'Survived': mypred})\n",
    "fdf.to_csv('C:/users/lfult/downloads/upload.csv',index=False)"
   ]
  },
  {
   "cell_type": "code",
   "execution_count": null,
   "id": "627556c7",
   "metadata": {},
   "outputs": [],
   "source": []
  }
 ],
 "metadata": {
  "kernelspec": {
   "display_name": "Python 3 (ipykernel)",
   "language": "python",
   "name": "python3"
  },
  "language_info": {
   "codemirror_mode": {
    "name": "ipython",
    "version": 3
   },
   "file_extension": ".py",
   "mimetype": "text/x-python",
   "name": "python",
   "nbconvert_exporter": "python",
   "pygments_lexer": "ipython3",
   "version": "3.10.0"
  }
 },
 "nbformat": 4,
 "nbformat_minor": 5
}
